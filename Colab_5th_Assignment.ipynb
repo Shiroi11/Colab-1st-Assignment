{
  "nbformat": 4,
  "nbformat_minor": 0,
  "metadata": {
    "colab": {
      "name": "Colab_5th_Assignment.ipynb",
      "provenance": [],
      "authorship_tag": "ABX9TyOtkHD4eAUYWtGOOCM5JpcG",
      "include_colab_link": true
    },
    "kernelspec": {
      "name": "python3",
      "display_name": "Python 3"
    },
    "accelerator": "GPU"
  },
  "cells": [
    {
      "cell_type": "markdown",
      "metadata": {
        "id": "view-in-github",
        "colab_type": "text"
      },
      "source": [
        "<a href=\"https://colab.research.google.com/github/Shiroi11/Colab-Assignments/blob/main/Colab_5th_Assignment.ipynb\" target=\"_parent\"><img src=\"https://colab.research.google.com/assets/colab-badge.svg\" alt=\"Open In Colab\"/></a>"
      ]
    },
    {
      "cell_type": "code",
      "metadata": {
        "id": "DD0VvBj0Ywkt"
      },
      "source": [
        "# Importing Libraries:\n",
        "import tensorflow as tf\n",
        "import pandas as pd\n",
        "import matplotlib.pyplot as plt"
      ],
      "execution_count": null,
      "outputs": []
    },
    {
      "cell_type": "code",
      "metadata": {
        "id": "aMLj3nA9a9Y6"
      },
      "source": [
        "# Setting the Random Seed Generator:\n",
        "tf.random.set_seed(42)"
      ],
      "execution_count": null,
      "outputs": []
    },
    {
      "cell_type": "code",
      "metadata": {
        "id": "XCnnXNZPbFAy",
        "colab": {
          "base_uri": "https://localhost:8080/"
        },
        "outputId": "8ea210f9-e370-41c9-8c71-59b4f3517972"
      },
      "source": [
        "# Importing and Splitting the Data:\n",
        "(x_train, y_train), (x_test, y_test) = tf.keras.datasets.fashion_mnist.load_data()"
      ],
      "execution_count": null,
      "outputs": [
        {
          "output_type": "stream",
          "text": [
            "Downloading data from https://storage.googleapis.com/tensorflow/tf-keras-datasets/train-labels-idx1-ubyte.gz\n",
            "32768/29515 [=================================] - 0s 0us/step\n",
            "Downloading data from https://storage.googleapis.com/tensorflow/tf-keras-datasets/train-images-idx3-ubyte.gz\n",
            "26427392/26421880 [==============================] - 0s 0us/step\n",
            "Downloading data from https://storage.googleapis.com/tensorflow/tf-keras-datasets/t10k-labels-idx1-ubyte.gz\n",
            "8192/5148 [===============================================] - 0s 0us/step\n",
            "Downloading data from https://storage.googleapis.com/tensorflow/tf-keras-datasets/t10k-images-idx3-ubyte.gz\n",
            "4423680/4422102 [==============================] - 0s 0us/step\n"
          ],
          "name": "stdout"
        }
      ]
    },
    {
      "cell_type": "code",
      "metadata": {
        "id": "RPaMKKSTbSHA"
      },
      "source": [
        "# Preprocessing the Target and Features:\n",
        "x_train, x_test = x_train/255, x_test/255\n",
        "\n",
        "y_train = tf.one_hot(y_train, depth=len(set(y_train)))\n",
        "y_test = tf.one_hot(y_test, depth=len(set(y_test)))\n",
        "\n",
        "y_train = tf.reshape(y_train, [-1, 10])\n",
        "y_test = tf.reshape(y_test, [-1, 10])"
      ],
      "execution_count": null,
      "outputs": []
    },
    {
      "cell_type": "code",
      "metadata": {
        "id": "U6Vw5Lz1bw7R"
      },
      "source": [
        "# Setting a Data Slicer Pipeline:\n",
        "def data_slicer(x, y):\n",
        "  data = tf.data.Dataset.from_tensor_slices((x, y))\n",
        "  data = data.shuffle(2000, seed=42)\n",
        "  data = data.batch(32)\n",
        "  return data"
      ],
      "execution_count": null,
      "outputs": []
    },
    {
      "cell_type": "markdown",
      "metadata": {
        "id": "f40N0oVRcB30"
      },
      "source": [
        "#Deep Neural Networks:"
      ]
    },
    {
      "cell_type": "code",
      "metadata": {
        "id": "VLNOBFjpb_bd"
      },
      "source": [
        "# Reshaping the Features:\n",
        "x_train_dnn, x_test_dnn = x_train.reshape(-1, 28*28), x_test.reshape(-1, 28*28)"
      ],
      "execution_count": null,
      "outputs": []
    },
    {
      "cell_type": "code",
      "metadata": {
        "id": "v4zsBvSocMqp"
      },
      "source": [
        "# Pass Train and Test Data through the Data Slicer Pipeline:\n",
        "train_dnn_data = data_slicer(x_train_dnn, y_train)\n",
        "test_dnn_data = data_slicer(x_test_dnn, y_test)"
      ],
      "execution_count": null,
      "outputs": []
    },
    {
      "cell_type": "code",
      "metadata": {
        "id": "IibBLIvvcYz5"
      },
      "source": [
        "# Defining the Deep Neural Network Model:\n",
        "dnn_model = tf.keras.Sequential([\n",
        "                                 tf.keras.layers.Input(shape=[28*28]),\n",
        "                                 tf.keras.layers.Dense(16, activation='relu'),\n",
        "                                 tf.keras.layers.Dense(10, activation='softmax')\n",
        "])"
      ],
      "execution_count": null,
      "outputs": []
    },
    {
      "cell_type": "code",
      "metadata": {
        "id": "P0-BuXe7ctgY"
      },
      "source": [
        "# Compile the Model:\n",
        "dnn_model.compile(optimizer='adam', loss=tf.losses.CategoricalCrossentropy(),\n",
        "                  metrics=['acc'])"
      ],
      "execution_count": null,
      "outputs": []
    },
    {
      "cell_type": "code",
      "metadata": {
        "colab": {
          "base_uri": "https://localhost:8080/"
        },
        "id": "1X9EbevZc39e",
        "outputId": "4299c037-0e45-4880-f0ae-0af034ce66ff"
      },
      "source": [
        "# Fitting the Model:\n",
        "dnn_model.fit(train_dnn_data, epochs=10, verbose=0, validation_data=test_dnn_data)"
      ],
      "execution_count": null,
      "outputs": [
        {
          "output_type": "execute_result",
          "data": {
            "text/plain": [
              "<tensorflow.python.keras.callbacks.History at 0x7f5a31854ef0>"
            ]
          },
          "metadata": {
            "tags": []
          },
          "execution_count": 10
        }
      ]
    },
    {
      "cell_type": "code",
      "metadata": {
        "colab": {
          "base_uri": "https://localhost:8080/",
          "height": 204
        },
        "id": "iVNDFXK9dCSv",
        "outputId": "d9bcf50f-f0a8-4bbc-b632-8be1238e5465"
      },
      "source": [
        "# Extracting the History Data of the Model:\n",
        "dnn_history = pd.DataFrame(dnn_model.history.history)\n",
        "dnn_history.tail()"
      ],
      "execution_count": null,
      "outputs": [
        {
          "output_type": "execute_result",
          "data": {
            "text/html": [
              "<div>\n",
              "<style scoped>\n",
              "    .dataframe tbody tr th:only-of-type {\n",
              "        vertical-align: middle;\n",
              "    }\n",
              "\n",
              "    .dataframe tbody tr th {\n",
              "        vertical-align: top;\n",
              "    }\n",
              "\n",
              "    .dataframe thead th {\n",
              "        text-align: right;\n",
              "    }\n",
              "</style>\n",
              "<table border=\"1\" class=\"dataframe\">\n",
              "  <thead>\n",
              "    <tr style=\"text-align: right;\">\n",
              "      <th></th>\n",
              "      <th>loss</th>\n",
              "      <th>acc</th>\n",
              "      <th>val_loss</th>\n",
              "      <th>val_acc</th>\n",
              "    </tr>\n",
              "  </thead>\n",
              "  <tbody>\n",
              "    <tr>\n",
              "      <th>5</th>\n",
              "      <td>0.373469</td>\n",
              "      <td>0.867517</td>\n",
              "      <td>0.422802</td>\n",
              "      <td>0.8503</td>\n",
              "    </tr>\n",
              "    <tr>\n",
              "      <th>6</th>\n",
              "      <td>0.364202</td>\n",
              "      <td>0.869683</td>\n",
              "      <td>0.445287</td>\n",
              "      <td>0.8377</td>\n",
              "    </tr>\n",
              "    <tr>\n",
              "      <th>7</th>\n",
              "      <td>0.355436</td>\n",
              "      <td>0.872467</td>\n",
              "      <td>0.430104</td>\n",
              "      <td>0.8487</td>\n",
              "    </tr>\n",
              "    <tr>\n",
              "      <th>8</th>\n",
              "      <td>0.349744</td>\n",
              "      <td>0.875250</td>\n",
              "      <td>0.403558</td>\n",
              "      <td>0.8541</td>\n",
              "    </tr>\n",
              "    <tr>\n",
              "      <th>9</th>\n",
              "      <td>0.346949</td>\n",
              "      <td>0.874550</td>\n",
              "      <td>0.402616</td>\n",
              "      <td>0.8565</td>\n",
              "    </tr>\n",
              "  </tbody>\n",
              "</table>\n",
              "</div>"
            ],
            "text/plain": [
              "       loss       acc  val_loss  val_acc\n",
              "5  0.373469  0.867517  0.422802   0.8503\n",
              "6  0.364202  0.869683  0.445287   0.8377\n",
              "7  0.355436  0.872467  0.430104   0.8487\n",
              "8  0.349744  0.875250  0.403558   0.8541\n",
              "9  0.346949  0.874550  0.402616   0.8565"
            ]
          },
          "metadata": {
            "tags": []
          },
          "execution_count": 11
        }
      ]
    },
    {
      "cell_type": "code",
      "metadata": {
        "colab": {
          "base_uri": "https://localhost:8080/",
          "height": 269
        },
        "id": "uEmMuOoLd_KE",
        "outputId": "67d638cc-f027-44da-e000-0361ef8f90d6"
      },
      "source": [
        "# Plotting Accuracy and Validation Accuracy:\n",
        "dnn_history[['acc', 'val_acc']].plot.line();"
      ],
      "execution_count": null,
      "outputs": [
        {
          "output_type": "display_data",
          "data": {
            "image/png": "[encoded data removed]",
            "text/plain": [
              "<Figure size 432x288 with 1 Axes>"
            ]
          },
          "metadata": {
            "tags": [],
            "needs_background": "light"
          }
        }
      ]
    },
    {
      "cell_type": "markdown",
      "metadata": {
        "id": "JjqdUe05eIiy"
      },
      "source": [
        "#Convolutional Neural Networks:"
      ]
    },
    {
      "cell_type": "code",
      "metadata": {
        "id": "G9_dt03xeFuB"
      },
      "source": [
        "# Reshaping the Features:\n",
        "x_train_cnn = x_train.reshape(-1, 28, 28, 1)\n",
        "x_test_cnn = x_test.reshape(-1, 28, 28, 1)"
      ],
      "execution_count": null,
      "outputs": []
    },
    {
      "cell_type": "code",
      "metadata": {
        "id": "jk9cR2X0eWBz"
      },
      "source": [
        "# Passing the Train and Test Data through the Data Slicer Pipeline:\n",
        "train_cnn_data = data_slicer(x_train_cnn, y_train)\n",
        "test_cnn_data = data_slicer(x_test_cnn, y_test)"
      ],
      "execution_count": null,
      "outputs": []
    },
    {
      "cell_type": "code",
      "metadata": {
        "id": "3rsmEGaoefpK"
      },
      "source": [
        "# Defining the Convolutional Neural Networks Model:\n",
        "cnn_model = tf.keras.Sequential([\n",
        "                                 tf.keras.layers.Input([28, 28, 1]),\n",
        "                                 tf.keras.layers.Conv2D(8, 3, 1, padding='same', activation='relu'),\n",
        "                                 tf.keras.layers.MaxPool2D((2, 2)),\n",
        "                                 tf.keras.layers.Conv2D(16, 3, 1, padding='same', activation='relu'),\n",
        "                                 tf.keras.layers.Flatten(),\n",
        "                                 tf.keras.layers.Dropout(.1),\n",
        "                                 tf.keras.layers.Dense(128, activation='relu'),\n",
        "                                 tf.keras.layers.Dropout(.1),\n",
        "                                 tf.keras.layers.Dense(32, activation='relu'),\n",
        "                                 tf.keras.layers.Dense(10, activation='softmax')\n",
        "])"
      ],
      "execution_count": null,
      "outputs": []
    },
    {
      "cell_type": "code",
      "metadata": {
        "id": "WoqYK7kee-Am"
      },
      "source": [
        "# Compiling the Model:\n",
        "cnn_model.compile(optimizer='adam', loss=tf.losses.CategoricalCrossentropy(),\n",
        "                  metrics=['acc'])"
      ],
      "execution_count": null,
      "outputs": []
    },
    {
      "cell_type": "code",
      "metadata": {
        "colab": {
          "base_uri": "https://localhost:8080/"
        },
        "id": "eHjl1cFqfMDb",
        "outputId": "bd205b66-2f2a-4722-df7f-a24488a09040"
      },
      "source": [
        "# Fitting the Model:\n",
        "cnn_model.fit(train_cnn_data, epochs=50, verbose=0, validation_data=test_cnn_data)"
      ],
      "execution_count": null,
      "outputs": [
        {
          "output_type": "execute_result",
          "data": {
            "text/plain": [
              "<tensorflow.python.keras.callbacks.History at 0x7f5a5bb79c88>"
            ]
          },
          "metadata": {
            "tags": []
          },
          "execution_count": 17
        }
      ]
    },
    {
      "cell_type": "code",
      "metadata": {
        "id": "RaIcF_-MfXsk",
        "colab": {
          "base_uri": "https://localhost:8080/",
          "height": 204
        },
        "outputId": "f4857d5b-7f6b-4996-9475-d44f62bfdf68"
      },
      "source": [
        "# Extracting the History Data of the Model:\n",
        "cnn_history = pd.DataFrame(cnn_model.history.history)\n",
        "cnn_history.tail()"
      ],
      "execution_count": null,
      "outputs": [
        {
          "output_type": "execute_result",
          "data": {
            "text/html": [
              "<div>\n",
              "<style scoped>\n",
              "    .dataframe tbody tr th:only-of-type {\n",
              "        vertical-align: middle;\n",
              "    }\n",
              "\n",
              "    .dataframe tbody tr th {\n",
              "        vertical-align: top;\n",
              "    }\n",
              "\n",
              "    .dataframe thead th {\n",
              "        text-align: right;\n",
              "    }\n",
              "</style>\n",
              "<table border=\"1\" class=\"dataframe\">\n",
              "  <thead>\n",
              "    <tr style=\"text-align: right;\">\n",
              "      <th></th>\n",
              "      <th>loss</th>\n",
              "      <th>acc</th>\n",
              "      <th>val_loss</th>\n",
              "      <th>val_acc</th>\n",
              "    </tr>\n",
              "  </thead>\n",
              "  <tbody>\n",
              "    <tr>\n",
              "      <th>45</th>\n",
              "      <td>0.028038</td>\n",
              "      <td>0.989833</td>\n",
              "      <td>0.529221</td>\n",
              "      <td>0.9186</td>\n",
              "    </tr>\n",
              "    <tr>\n",
              "      <th>46</th>\n",
              "      <td>0.025469</td>\n",
              "      <td>0.991550</td>\n",
              "      <td>0.564850</td>\n",
              "      <td>0.9124</td>\n",
              "    </tr>\n",
              "    <tr>\n",
              "      <th>47</th>\n",
              "      <td>0.027168</td>\n",
              "      <td>0.990833</td>\n",
              "      <td>0.517322</td>\n",
              "      <td>0.9166</td>\n",
              "    </tr>\n",
              "    <tr>\n",
              "      <th>48</th>\n",
              "      <td>0.028377</td>\n",
              "      <td>0.990167</td>\n",
              "      <td>0.537412</td>\n",
              "      <td>0.9140</td>\n",
              "    </tr>\n",
              "    <tr>\n",
              "      <th>49</th>\n",
              "      <td>0.026985</td>\n",
              "      <td>0.990517</td>\n",
              "      <td>0.540967</td>\n",
              "      <td>0.9142</td>\n",
              "    </tr>\n",
              "  </tbody>\n",
              "</table>\n",
              "</div>"
            ],
            "text/plain": [
              "        loss       acc  val_loss  val_acc\n",
              "45  0.028038  0.989833  0.529221   0.9186\n",
              "46  0.025469  0.991550  0.564850   0.9124\n",
              "47  0.027168  0.990833  0.517322   0.9166\n",
              "48  0.028377  0.990167  0.537412   0.9140\n",
              "49  0.026985  0.990517  0.540967   0.9142"
            ]
          },
          "metadata": {
            "tags": []
          },
          "execution_count": 18
        }
      ]
    },
    {
      "cell_type": "code",
      "metadata": {
        "colab": {
          "base_uri": "https://localhost:8080/",
          "height": 282
        },
        "id": "UvXdONYlRzZZ",
        "outputId": "95d9f7b0-6dff-4d78-e2a4-e36e6961f902"
      },
      "source": [
        "# Plotting the Accuracy and Validation Accuracy of the Model:\n",
        "cnn_history[['acc', 'val_acc']].plot.line()"
      ],
      "execution_count": null,
      "outputs": [
        {
          "output_type": "execute_result",
          "data": {
            "text/plain": [
              "<matplotlib.axes._subplots.AxesSubplot at 0x7f59b85b0ba8>"
            ]
          },
          "metadata": {
            "tags": []
          },
          "execution_count": 19
        },
        {
          "output_type": "display_data",
          "data": {
            "image/png": "[encoded data removed]",
            "text/plain": [
              "<Figure size 432x288 with 1 Axes>"
            ]
          },
          "metadata": {
            "tags": [],
            "needs_background": "light"
          }
        }
      ]
    },
    {
      "cell_type": "code",
      "metadata": {
        "id": "OTuLNlszR66l"
      },
      "source": [
        ""
      ],
      "execution_count": null,
      "outputs": []
    }
  ]
}