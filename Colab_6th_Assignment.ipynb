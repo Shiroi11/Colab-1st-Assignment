{
  "nbformat": 4,
  "nbformat_minor": 0,
  "metadata": {
    "colab": {
      "name": "Colab_6th_Assignment.ipynb",
      "provenance": [],
      "authorship_tag": "ABX9TyOODqyrwY5e2b8cPyaPP4Uz",
      "include_colab_link": true
    },
    "kernelspec": {
      "name": "python3",
      "display_name": "Python 3"
    }
  },
  "cells": [
    {
      "cell_type": "markdown",
      "metadata": {
        "id": "view-in-github",
        "colab_type": "text"
      },
      "source": [
        "<a href=\"https://colab.research.google.com/github/Shiroi11/Colab-Assignments/blob/main/Colab_6th_Assignment.ipynb\" target=\"_parent\"><img src=\"https://colab.research.google.com/assets/colab-badge.svg\" alt=\"Open In Colab\"/></a>"
      ]
    },
    {
      "cell_type": "markdown",
      "metadata": {
        "id": "-Ovyn9G-obHx"
      },
      "source": [
        "# Assignment 06"
      ]
    },
    {
      "cell_type": "markdown",
      "metadata": {
        "id": "o9l1cbexhuvU"
      },
      "source": [
        "- Set TensorFlow's random seed to 42\n",
        "- Read data from CSV files and split it into inputs and targets (no need to do train_test_split as the data is already split).\n",
        "- Tokenize and pad the text, use a vocabulary size of 10,000 and maximum sequence length of 64.\n",
        "- Do the appropriate operations on the targets to prepare them for training.\n",
        "- Define the sequential model, make sure to use LSTM and Embedding layers.\n",
        "- Use Adam optimiser and the appropriate loss function and metrics to compile the model.\n",
        "- Use ModelCheckpoint callback to save the model at the epoch with the best validation accuracy, the model file should have your name (e.g. for Sabri Monaf, the model's file name would be \"sabri_m.h5). Make sure to download the model file as it will be a part of your assignment submission. (the documentation for ModelCheckpoint can be found here: https://www.tensorflow.org/.../callbacks/ModelCheckpoint).\n",
        "- The training and validation accuracy should be at least 90% and 85% respectively.\n",
        "- Create a cell in the end that takes in an input string (inputted using Colab Forms (see details here: https://colab.research.google.com/notebooks/forms.ipynb) and uses the trained model to predict (make sure to convert the vector output to the appropriate emoji and print only the emoji at the end of the cell)."
      ]
    },
    {
      "cell_type": "markdown",
      "metadata": {
        "id": "Jff6rR0phDhe"
      },
      "source": [
        "# Libraries Importing and Random State Seeding"
      ]
    },
    {
      "cell_type": "code",
      "metadata": {
        "id": "IS71S3rmnqHR"
      },
      "source": [
        "import tensorflow as tf\n",
        "import pandas as pd\n",
        "import numpy as np"
      ],
      "execution_count": 1,
      "outputs": []
    },
    {
      "cell_type": "code",
      "metadata": {
        "id": "EvhydDOpqGIK"
      },
      "source": [
        "tf.random.set_seed(42)"
      ],
      "execution_count": 2,
      "outputs": []
    },
    {
      "cell_type": "markdown",
      "metadata": {
        "id": "kKOX-61BhR5R"
      },
      "source": [
        "# Defining the Network's Fixed Parameters"
      ]
    },
    {
      "cell_type": "code",
      "metadata": {
        "id": "YsmzpGVHO4m5"
      },
      "source": [
        "# Vocabulary sample size:\n",
        "vocab_size = 10000\n",
        "\n",
        "# Max number of text length:\n",
        "max_sequence = 64\n",
        "\n",
        "# Embedding dimensions :\n",
        "embeddings_dims = 100"
      ],
      "execution_count": 3,
      "outputs": []
    },
    {
      "cell_type": "markdown",
      "metadata": {
        "id": "70spIL7PiOkr"
      },
      "source": [
        "# Data Importing and Preprocessing"
      ]
    },
    {
      "cell_type": "code",
      "metadata": {
        "id": "y0MlhMoypfIb"
      },
      "source": [
        "# Importing Training and Testing Sets:\n",
        "train = pd.read_csv('/content/train.csv')\n",
        "test = pd.read_csv('/content/test.csv')"
      ],
      "execution_count": 4,
      "outputs": []
    },
    {
      "cell_type": "code",
      "metadata": {
        "colab": {
          "base_uri": "https://localhost:8080/"
        },
        "id": "T8VJfU4bPPFT",
        "outputId": "bbde5ea7-18d3-43e5-ca9f-4af63929ec80"
      },
      "source": [
        "# Splitting Train and Test Data into Features and Targets:\n",
        "x_train = train.text\n",
        "y_train = train.emoji\n",
        "\n",
        "x_test = test.text\n",
        "y_test = test.emoji\n",
        "\n",
        "# Displaying the shape of the 4 numpy arrays:\n",
        "x_train.shape, y_train.shape, x_test.shape, y_test.shape"
      ],
      "execution_count": 5,
      "outputs": [
        {
          "output_type": "execute_result",
          "data": {
            "text/plain": [
              "((16000,), (16000,), (2000,), (2000,))"
            ]
          },
          "metadata": {
            "tags": []
          },
          "execution_count": 5
        }
      ]
    },
    {
      "cell_type": "code",
      "metadata": {
        "id": "JVX_FhaxpwUU"
      },
      "source": [
        "# Tokenize X text with defined maximum vocabulary:\n",
        "tokenizer = tf.keras.preprocessing.text.Tokenizer(\n",
        "    num_words = vocab_size, \n",
        ")\n",
        "\n",
        "# Fitting the Tokenizer on X_train:\n",
        "tokenizer.fit_on_texts(x_train)"
      ],
      "execution_count": 6,
      "outputs": []
    },
    {
      "cell_type": "code",
      "metadata": {
        "id": "rRkmiJ7Fuf7P"
      },
      "source": [
        "# Transform X_train and X_testusing the defined Tokenizer:\n",
        "x_train_token = tokenizer.texts_to_sequences(x_train)\n",
        "x_test_token = tokenizer.texts_to_sequences(x_test)"
      ],
      "execution_count": 7,
      "outputs": []
    },
    {
      "cell_type": "code",
      "metadata": {
        "id": "C8GdXPrIQ9nr"
      },
      "source": [
        "# Padding X_train and X_test using 0's after the text:\n",
        "x_train_padded = tf.keras.preprocessing.sequence.pad_sequences(\n",
        "    x_train_token, maxlen = max_sequence, padding = 'post')\n",
        "\n",
        "x_test_padded = tf.keras.preprocessing.sequence.pad_sequences(\n",
        "    x_test_token, maxlen = max_sequence, padding = 'post')"
      ],
      "execution_count": 8,
      "outputs": []
    },
    {
      "cell_type": "code",
      "metadata": {
        "id": "FM5gY4fpRlwh"
      },
      "source": [
        "# Replace Target emojis with numbers for calculation purposes, and one_hot encode the outcome:\n",
        "y_train.replace({'😢':0, '😡':1, '😍':2, '😲':3, '😨':4, '😄':5}, inplace=True)\n",
        "y_test.replace({'😢':0, '😡':1, '😍':2, '😲':3, '😨':4, '😄':5}, inplace=True)\n",
        "\n",
        "y_train_1hot = tf.one_hot(y_train, depth=len(set(y_train)))\n",
        "y_test_1hot = tf.one_hot(y_test, depth=len(set(y_test)))\n",
        "\n",
        "y_train_1hot = tf.reshape(y_train_1hot, [-1, 6])\n",
        "y_test_1hot = tf.reshape(y_test_1hot, [-1, 6])"
      ],
      "execution_count": 9,
      "outputs": []
    },
    {
      "cell_type": "code",
      "metadata": {
        "id": "bq8wD0X6p0Ww"
      },
      "source": [
        "# Create Dataset pipeline for shuffling, patching and prefetching:\n",
        "def dataset_creator(x, y):\n",
        "  data = tf.data.Dataset.from_tensor_slices((x, y))\n",
        "  data = data.shuffle(50000)\n",
        "  data = data.batch(64)\n",
        "  data = data.prefetch(tf.data.experimental.AUTOTUNE)\n",
        "  return data"
      ],
      "execution_count": 10,
      "outputs": []
    },
    {
      "cell_type": "code",
      "metadata": {
        "id": "8BzuuZNWW6d1"
      },
      "source": [
        "# Create train and test datasets using data_creator pipeline:\n",
        "train_dataset = dataset_creator(x_train_padded, y_train_1hot)\n",
        "test_dataset = dataset_creator(x_test_padded, y_test_1hot)"
      ],
      "execution_count": 11,
      "outputs": []
    },
    {
      "cell_type": "markdown",
      "metadata": {
        "id": "l2gg4li3kbzj"
      },
      "source": [
        "# Long Short-Term Memory Neural Network"
      ]
    },
    {
      "cell_type": "code",
      "metadata": {
        "id": "ocWNYzoqqTha"
      },
      "source": [
        "# Constructing the Model:\n",
        "lstm_model = tf.keras.Sequential([\n",
        "                                  tf.keras.Input([max_sequence]),\n",
        "                                  tf.keras.layers.Embedding(vocab_size+1, 100, mask_zero=True),\n",
        "                                  tf.keras.layers.LSTM(128),\n",
        "                                  tf.keras.layers.Dense(units=6, activation='softmax')\n",
        "])"
      ],
      "execution_count": 12,
      "outputs": []
    },
    {
      "cell_type": "code",
      "metadata": {
        "id": "7qpVkYxau-6K",
        "colab": {
          "base_uri": "https://localhost:8080/"
        },
        "outputId": "65aba5b0-94b5-454e-9463-00f05605e39a"
      },
      "source": [
        "# Displaying the Model's summary:\n",
        "lstm_model.summary()"
      ],
      "execution_count": 13,
      "outputs": [
        {
          "output_type": "stream",
          "text": [
            "Model: \"sequential\"\n",
            "_________________________________________________________________\n",
            "Layer (type)                 Output Shape              Param #   \n",
            "=================================================================\n",
            "embedding (Embedding)        (None, 64, 100)           1000100   \n",
            "_________________________________________________________________\n",
            "lstm (LSTM)                  (None, 128)               117248    \n",
            "_________________________________________________________________\n",
            "dense (Dense)                (None, 6)                 774       \n",
            "=================================================================\n",
            "Total params: 1,118,122\n",
            "Trainable params: 1,118,122\n",
            "Non-trainable params: 0\n",
            "_________________________________________________________________\n"
          ],
          "name": "stdout"
        }
      ]
    },
    {
      "cell_type": "code",
      "metadata": {
        "id": "pUy84RVEqp8E"
      },
      "source": [
        "# Compiling the Model:\n",
        "lstm_model.compile(optimizer='adam', loss='categorical_crossentropy',\n",
        "                   metrics=['accuracy'])"
      ],
      "execution_count": 14,
      "outputs": []
    },
    {
      "cell_type": "code",
      "metadata": {
        "id": "DvffSXZ5GAYn"
      },
      "source": [
        "# Defining the Model's callback:\n",
        "checkpoint_filepath = '/content'\n",
        "model_checkpoint_callback = tf.keras.callbacks.ModelCheckpoint(\n",
        "    filepath=checkpoint_filepath,\n",
        "    save_weights_only=True,\n",
        "    monitor='val_accuracy',\n",
        "    mode='max',\n",
        "    save_best_only=True)"
      ],
      "execution_count": 15,
      "outputs": []
    },
    {
      "cell_type": "code",
      "metadata": {
        "colab": {
          "base_uri": "https://localhost:8080/"
        },
        "id": "uXHwm2YesGE0",
        "outputId": "1a5aaadb-88f7-4335-d800-f5786b1755af"
      },
      "source": [
        "# Fitting the Model\n",
        "lstm_model.fit(train_dataset, epochs=10, verbose=0,\n",
        "               validation_data=test_dataset, \n",
        "               callbacks=[model_checkpoint_callback])"
      ],
      "execution_count": 16,
      "outputs": [
        {
          "output_type": "execute_result",
          "data": {
            "text/plain": [
              "<tensorflow.python.keras.callbacks.History at 0x7fa25bf7ce80>"
            ]
          },
          "metadata": {
            "tags": []
          },
          "execution_count": 16
        }
      ]
    },
    {
      "cell_type": "code",
      "metadata": {
        "colab": {
          "base_uri": "https://localhost:8080/",
          "height": 204
        },
        "id": "S7DOfU-xoWk-",
        "outputId": "6bce60d3-e1db-482f-abb6-3c4c9a3d4200"
      },
      "source": [
        "# Extracting the Historical Data of the Model:\n",
        "lstm_model_history = pd.DataFrame(lstm_model.history.history)\n",
        "lstm_model_history.tail()"
      ],
      "execution_count": 17,
      "outputs": [
        {
          "output_type": "execute_result",
          "data": {
            "text/html": [
              "<div>\n",
              "<style scoped>\n",
              "    .dataframe tbody tr th:only-of-type {\n",
              "        vertical-align: middle;\n",
              "    }\n",
              "\n",
              "    .dataframe tbody tr th {\n",
              "        vertical-align: top;\n",
              "    }\n",
              "\n",
              "    .dataframe thead th {\n",
              "        text-align: right;\n",
              "    }\n",
              "</style>\n",
              "<table border=\"1\" class=\"dataframe\">\n",
              "  <thead>\n",
              "    <tr style=\"text-align: right;\">\n",
              "      <th></th>\n",
              "      <th>loss</th>\n",
              "      <th>accuracy</th>\n",
              "      <th>val_loss</th>\n",
              "      <th>val_accuracy</th>\n",
              "    </tr>\n",
              "  </thead>\n",
              "  <tbody>\n",
              "    <tr>\n",
              "      <th>5</th>\n",
              "      <td>0.055115</td>\n",
              "      <td>0.981438</td>\n",
              "      <td>0.248738</td>\n",
              "      <td>0.9165</td>\n",
              "    </tr>\n",
              "    <tr>\n",
              "      <th>6</th>\n",
              "      <td>0.041345</td>\n",
              "      <td>0.984875</td>\n",
              "      <td>0.284422</td>\n",
              "      <td>0.9075</td>\n",
              "    </tr>\n",
              "    <tr>\n",
              "      <th>7</th>\n",
              "      <td>0.036615</td>\n",
              "      <td>0.987813</td>\n",
              "      <td>0.307115</td>\n",
              "      <td>0.9130</td>\n",
              "    </tr>\n",
              "    <tr>\n",
              "      <th>8</th>\n",
              "      <td>0.031503</td>\n",
              "      <td>0.989563</td>\n",
              "      <td>0.306195</td>\n",
              "      <td>0.9170</td>\n",
              "    </tr>\n",
              "    <tr>\n",
              "      <th>9</th>\n",
              "      <td>0.027419</td>\n",
              "      <td>0.991500</td>\n",
              "      <td>0.290089</td>\n",
              "      <td>0.9205</td>\n",
              "    </tr>\n",
              "  </tbody>\n",
              "</table>\n",
              "</div>"
            ],
            "text/plain": [
              "       loss  accuracy  val_loss  val_accuracy\n",
              "5  0.055115  0.981438  0.248738        0.9165\n",
              "6  0.041345  0.984875  0.284422        0.9075\n",
              "7  0.036615  0.987813  0.307115        0.9130\n",
              "8  0.031503  0.989563  0.306195        0.9170\n",
              "9  0.027419  0.991500  0.290089        0.9205"
            ]
          },
          "metadata": {
            "tags": []
          },
          "execution_count": 17
        }
      ]
    },
    {
      "cell_type": "code",
      "metadata": {
        "colab": {
          "base_uri": "https://localhost:8080/",
          "height": 265
        },
        "id": "ydiCX--ssUZZ",
        "outputId": "701b1dd4-7d00-4c38-d797-30ae68bc433c"
      },
      "source": [
        "# Plotting Accuracy and Validation Accuracy:\n",
        "lstm_model_history[['accuracy', 'val_accuracy']].plot.line();"
      ],
      "execution_count": 18,
      "outputs": [
        {
          "output_type": "display_data",
          "data": {
            "image/png": "[encoded data removed]",
            "text/plain": [
              "<Figure size 432x288 with 1 Axes>"
            ]
          },
          "metadata": {
            "tags": [],
            "needs_background": "light"
          }
        }
      ]
    },
    {
      "cell_type": "markdown",
      "metadata": {
        "id": "XaXSsBIqliwI"
      },
      "source": [
        "# Saving, Loading and Testing the Model"
      ]
    },
    {
      "cell_type": "code",
      "metadata": {
        "id": "oCTarwahHyiB"
      },
      "source": [
        "# Saving the Model:\n",
        "lstm_model.save('lstm_model.h5')"
      ],
      "execution_count": 19,
      "outputs": []
    },
    {
      "cell_type": "code",
      "metadata": {
        "id": "f-ZFfQPeJB5G"
      },
      "source": [
        "# Loading the Model:\n",
        "lstm_model = tf.keras.models.load_model('lstm_model.h5')"
      ],
      "execution_count": 20,
      "outputs": []
    },
    {
      "cell_type": "code",
      "metadata": {
        "id": "ZOjI-ZzyjTQH"
      },
      "source": [
        "# Defining a function that transforms the numerical outputs (probabolities) into emojis\n",
        "def predict(text):\n",
        "  tokenized_texts = tokenizer.texts_to_sequences([text])\n",
        "  input = tf.keras.preprocessing.sequence.pad_sequences(\n",
        "      tokenized_texts, maxlen=max_sequence, padding='post')\n",
        "  output = lstm_model.predict(input)[0]\n",
        "  emoji = ['😢', '😡', '😍', '😲', '😨', '😄']\n",
        "  for index, value in enumerate(output):\n",
        "    if value == max(output):\n",
        "      print(text, emoji[index])\n",
        "      break"
      ],
      "execution_count": 21,
      "outputs": []
    },
    {
      "cell_type": "code",
      "metadata": {
        "colab": {
          "base_uri": "https://localhost:8080/"
        },
        "id": "-Tp5HtvBAEJN",
        "outputId": "6ec11c66-56f0-43c4-f0b0-8c7df3852862"
      },
      "source": [
        "# Interactive predictions testing cell:\n",
        "#@title Emoji Text Prediction\n",
        "\n",
        "text = 'you look confused ' #@param {type:\"string\"}\n",
        "\n",
        "predict(text)"
      ],
      "execution_count": 23,
      "outputs": [
        {
          "output_type": "stream",
          "text": [
            "you look confused  😨\n"
          ],
          "name": "stdout"
        }
      ]
    }
  ]
}