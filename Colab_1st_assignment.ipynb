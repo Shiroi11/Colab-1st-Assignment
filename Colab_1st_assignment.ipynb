{
 "cells": [
  {
   "cell_type": "markdown",
   "metadata": {},
   "source": [
    "# Colab Assignment 01"
   ]
  },
  {
   "cell_type": "markdown",
   "metadata": {},
   "source": [
    "### Importing the necessary Library:"
   ]
  },
  {
   "cell_type": "code",
   "execution_count": 1,
   "metadata": {},
   "outputs": [],
   "source": [
    "import pandas as pd"
   ]
  },
  {
   "cell_type": "markdown",
   "metadata": {},
   "source": [
    "### 01- Read CSV file into a DataFrame using Pandas:"
   ]
  },
  {
   "cell_type": "code",
   "execution_count": 2,
   "metadata": {},
   "outputs": [
    {
     "name": "stdout",
     "output_type": "stream",
     "text": [
      "  First Name  Gender    Salary  Bonus %             Team\n",
      "0    Douglas    Male   97308.0    6.945        Marketing\n",
      "1     Thomas    Male   61933.0    4.170           Others\n",
      "2      Maria  Female  130590.0   11.858          Finance\n",
      "3      Jerry    Male  138705.0    9.340          Finance\n",
      "4      Larry    Male  101004.0    1.389  Client Services\n"
     ]
    }
   ],
   "source": [
    "employees_df = pd.read_csv(\"/Users/apple/Downloads/employees.csv\")\n",
    "print(employees_df.head())"
   ]
  },
  {
   "cell_type": "markdown",
   "metadata": {},
   "source": [
    "### 02- Drop first column (First Name):"
   ]
  },
  {
   "cell_type": "code",
   "execution_count": 3,
   "metadata": {},
   "outputs": [
    {
     "name": "stdout",
     "output_type": "stream",
     "text": [
      "  First Name  Gender    Salary  Bonus %             Team\n",
      "1     Thomas    Male   61933.0    4.170           Others\n",
      "2      Maria  Female  130590.0   11.858          Finance\n",
      "3      Jerry    Male  138705.0    9.340          Finance\n",
      "4      Larry    Male  101004.0    1.389  Client Services\n",
      "5     Dennis    Male  115163.0   10.125            Legal\n"
     ]
    }
   ],
   "source": [
    "employees_df = employees_df.drop(0)\n",
    "print(employees_df.head())"
   ]
  },
  {
   "cell_type": "markdown",
   "metadata": {},
   "source": [
    "### 03- Fill in missing values in (Salary, Bonus %) using the mean value of each column:"
   ]
  },
  {
   "cell_type": "code",
   "execution_count": 4,
   "metadata": {},
   "outputs": [
    {
     "name": "stdout",
     "output_type": "stream",
     "text": [
      "First Name    0\n",
      "Gender        0\n",
      "Salary        7\n",
      "Bonus %       5\n",
      "Team          0\n",
      "dtype: int64\n",
      "First Name    0\n",
      "Gender        0\n",
      "Salary        0\n",
      "Bonus %       0\n",
      "Team          0\n",
      "dtype: int64\n"
     ]
    }
   ],
   "source": [
    "# Finding the number of missing values in each variable:\n",
    "print(employees_df.isnull().sum())\n",
    "\n",
    "# Fill Salary variable missing values with the variable's mean:\n",
    "employees_df.Salary.fillna(employees_df.Salary.mean(), inplace=True)\n",
    "\n",
    "# Fill Bonus % variable missing values with the variable's mean:\n",
    "employees_df[\"Bonus %\"].fillna(employees_df[\"Bonus %\"].mean(), inplace=True)\n",
    "\n",
    "# Printing out the dataframe after missing data imputation:\n",
    "print(employees_df.isnull().sum())"
   ]
  },
  {
   "cell_type": "markdown",
   "metadata": {},
   "source": [
    "### 04-a- Convert text values to numerical values in (Gender):"
   ]
  },
  {
   "cell_type": "code",
   "execution_count": 5,
   "metadata": {
    "scrolled": true
   },
   "outputs": [
    {
     "name": "stdout",
     "output_type": "stream",
     "text": [
      "  First Name  Gender    Salary  Bonus %             Team\n",
      "1     Thomas       1   61933.0    4.170           Others\n",
      "2      Maria       2  130590.0   11.858          Finance\n",
      "3      Jerry       1  138705.0    9.340          Finance\n",
      "4      Larry       1  101004.0    1.389  Client Services\n",
      "5     Dennis       1  115163.0   10.125            Legal\n"
     ]
    }
   ],
   "source": [
    "# Creating dictionary for Gender text values:\n",
    "gender_dict = {\"Male\": 1, \"Female\": 2}\n",
    "\n",
    "# Recode the Gender variable with 1 for Male and 2 for Female:\n",
    "employees_recoded = employees_df.replace(gender_dict)\n",
    "\n",
    "# Printing out the new dataframe's head:\n",
    "print(employees_recoded.head())"
   ]
  },
  {
   "cell_type": "markdown",
   "metadata": {},
   "source": [
    "### 04-b- Convert txt values to numerical values in (Team):"
   ]
  },
  {
   "cell_type": "code",
   "execution_count": 6,
   "metadata": {},
   "outputs": [
    {
     "name": "stdout",
     "output_type": "stream",
     "text": [
      "{'Client Services': 1, 'Finance': 2, 'Legal': 3, 'Business Development': 4, 'Sales': 5, 'Product': 6, 'Marketing': 7, 'Human Resources': 8, 'Engineering': 9, 'Others': 10, 'Distribution': 11}\n"
     ]
    }
   ],
   "source": [
    "# Create a dictionary from Team variable's data:\n",
    "# =============================================\n",
    "# --> Extract the number of unique value's in Team's variable:\n",
    "team_df = employees_df[\"Team\"].value_counts()\n",
    "\n",
    "# --> Extract the Team's dataframe index and transform it into a list:\n",
    "team_list = list(team_df.index)\n",
    "\n",
    "# --> create a numerical series matches the team_list:\n",
    "team_rng = list(range(1,len(team_list)+1))\n",
    "\n",
    "# --> create a dictionary from team_list and team_rng:\n",
    "team_dict = dict(zip(team_list, team_rng))\n",
    "\n",
    "# Print out the Team's dictionary:\n",
    "print(team_dict)"
   ]
  },
  {
   "cell_type": "code",
   "execution_count": 7,
   "metadata": {},
   "outputs": [
    {
     "name": "stdout",
     "output_type": "stream",
     "text": [
      "  First Name  Gender    Salary  Bonus %  Team\n",
      "1     Thomas       1   61933.0    4.170    10\n",
      "2      Maria       2  130590.0   11.858     2\n",
      "3      Jerry       1  138705.0    9.340     2\n",
      "4      Larry       1  101004.0    1.389     1\n",
      "5     Dennis       1  115163.0   10.125     3\n"
     ]
    }
   ],
   "source": [
    "# Recode the Team variable's data:\n",
    "employees_recoded = employees_recoded.replace(team_dict)\n",
    "\n",
    "# Printing out the new dataframe's head:\n",
    "print(employees_recoded.head())"
   ]
  },
  {
   "cell_type": "code",
   "execution_count": 8,
   "metadata": {},
   "outputs": [
    {
     "name": "stdout",
     "output_type": "stream",
     "text": [
      "  First Name  Gender    Salary  Bonus %  Team\n",
      "1     Thomas       1   61933.0    4.170    10\n",
      "2      Maria       2  130590.0   11.858     2\n",
      "3      Jerry       1  138705.0    9.340     2\n",
      "4      Larry       1  101004.0    1.389     1\n",
      "5     Dennis       1  115163.0   10.125     3\n"
     ]
    }
   ],
   "source": [
    "employees_recoded = employees_recoded.replace(team_dict)\n",
    "print(employees_recoded.head())"
   ]
  },
  {
   "cell_type": "code",
   "execution_count": 9,
   "metadata": {},
   "outputs": [],
   "source": [
    "employees_recoded.to_csv(r\"/Users/apple/Downloads/employees_recoded.csv\", index = True)"
   ]
  },
  {
   "cell_type": "code",
   "execution_count": null,
   "metadata": {},
   "outputs": [],
   "source": []
  }
 ],
 "metadata": {
  "kernelspec": {
   "display_name": "Python 3",
   "language": "python",
   "name": "python3"
  },
  "language_info": {
   "codemirror_mode": {
    "name": "ipython",
    "version": 3
   },
   "file_extension": ".py",
   "mimetype": "text/x-python",
   "name": "python",
   "nbconvert_exporter": "python",
   "pygments_lexer": "ipython3",
   "version": "3.7.6"
  }
 },
 "nbformat": 4,
 "nbformat_minor": 4
}
