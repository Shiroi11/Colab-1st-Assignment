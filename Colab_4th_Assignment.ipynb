{
 "cells": [
  {
   "cell_type": "markdown",
   "metadata": {},
   "source": [
    "# Import the Necessary Libraries and Setting the Random Seed Generator"
   ]
  },
  {
   "cell_type": "code",
   "execution_count": 1,
   "metadata": {},
   "outputs": [],
   "source": [
    "import numpy as np\n",
    "import pandas as pd\n",
    "import matplotlib.pyplot as plt\n",
    "import seaborn as sns\n",
    "import tensorflow as tf\n",
    "from sklearn import model_selection, datasets, metrics, preprocessing"
   ]
  },
  {
   "cell_type": "code",
   "execution_count": 2,
   "metadata": {},
   "outputs": [],
   "source": [
    "tf.random.set_seed(42)"
   ]
  },
  {
   "cell_type": "markdown",
   "metadata": {},
   "source": [
    "# A - Iris Data Deep Learning Model:"
   ]
  },
  {
   "cell_type": "markdown",
   "metadata": {},
   "source": [
    "1- Data Importing and Preprocessing:"
   ]
  },
  {
   "cell_type": "code",
   "execution_count": 3,
   "metadata": {},
   "outputs": [],
   "source": [
    "iris_features, iris_target = datasets.load_iris(return_X_y=True)"
   ]
  },
  {
   "cell_type": "code",
   "execution_count": 4,
   "metadata": {},
   "outputs": [
    {
     "name": "stdout",
     "output_type": "stream",
     "text": [
      "Number of Classes in the Iris's Target Variable: {0, 1, 2}\n",
      "==================================================\n",
      "Number of Features:  4\n"
     ]
    }
   ],
   "source": [
    "print(\"Number of Classes in the Iris's Target Variable:\", set(iris_target))\n",
    "print('='*50)\n",
    "print('Number of Features: ', iris_features.shape[1])"
   ]
  },
  {
   "cell_type": "code",
   "execution_count": 5,
   "metadata": {},
   "outputs": [],
   "source": [
    "# - Splitting Features & Target Variables:\n",
    "iris_features_train, iris_features_test, iris_target_train, iris_target_test = model_selection.train_test_split(iris_features, iris_target, test_size=.1)\n",
    "\n",
    "# - Standardize the Features:\n",
    "iris_scaler = preprocessing.StandardScaler()\n",
    "iris_features_train_ss = iris_scaler.fit_transform(iris_features_train)\n",
    "iris_features_test_ss = iris_scaler.transform(iris_features_test)\n",
    "\n",
    "# - Transform the Target Variable with One-Hot Encoding\n",
    "iris_target_train_1hot = tf.one_hot(iris_target_train, depth=len(set(iris_target_train)))\n",
    "iris_target_test_1hot = tf.one_hot(iris_target_test, depth=len(set(iris_target_test)))"
   ]
  },
  {
   "cell_type": "markdown",
   "metadata": {},
   "source": [
    "2- Model Construction and Training:"
   ]
  },
  {
   "cell_type": "code",
   "execution_count": 6,
   "metadata": {},
   "outputs": [],
   "source": [
    "# Construct a Deep Neural Network Model:\n",
    "iris_model = tf.keras.Sequential([\n",
    "    tf.keras.Input(4),\n",
    "    tf.keras.layers.Dropout(.1),\n",
    "    tf.keras.layers.Dense(16, activation=tf.nn.relu),\n",
    "    tf.keras.layers.Dropout(.1),\n",
    "    tf.keras.layers.Dense(32, activation=tf.nn.relu),\n",
    "    tf.keras.layers.Dropout(.1),\n",
    "    tf.keras.layers.Dense(16, activation=tf.nn.relu),\n",
    "    tf.keras.layers.Dropout(.1),\n",
    "    tf.keras.layers.Dense(3, activation=tf.nn.softmax)\n",
    "])\n",
    "\n",
    "# Compiling the Built Model:\n",
    "iris_model.compile(optimizer=tf.optimizers.Adam(),\n",
    "              loss=tf.losses.CategoricalCrossentropy(),\n",
    "              metrics=['acc'])"
   ]
  },
  {
   "cell_type": "code",
   "execution_count": 7,
   "metadata": {},
   "outputs": [],
   "source": [
    "# Setting the Callback Conditions:\n",
    "iris_callbacks = [tf.keras.callbacks.EarlyStopping(monitor='val_loss', min_delta=.01, patience=3)]"
   ]
  },
  {
   "cell_type": "code",
   "execution_count": 8,
   "metadata": {},
   "outputs": [],
   "source": [
    "# Running the Model:\n",
    "iris_history = iris_model.fit(iris_features_train_ss, iris_target_train_1hot, epochs=100,\n",
    "                              validation_split=.1, batch_size=32, verbose=0, \n",
    "                              validation_data=(iris_features_test_ss, iris_target_test_1hot), \n",
    "                              callbacks=iris_callbacks)"
   ]
  },
  {
   "cell_type": "markdown",
   "metadata": {},
   "source": [
    "3- Model Evaluation:"
   ]
  },
  {
   "cell_type": "code",
   "execution_count": 9,
   "metadata": {},
   "outputs": [
    {
     "data": {
      "text/plain": [
       "<tf.Tensor: shape=(), dtype=float32, numpy=0.93333334>"
      ]
     },
     "execution_count": 9,
     "metadata": {},
     "output_type": "execute_result"
    }
   ],
   "source": [
    "# Checking the Model's Accuracy\n",
    "tf.reduce_mean(tf.metrics.categorical_accuracy(iris_target_test_1hot, iris_model.predict(iris_features_test_ss)))"
   ]
  },
  {
   "cell_type": "code",
   "execution_count": 10,
   "metadata": {},
   "outputs": [],
   "source": [
    "# Creating Vector of the Predicted Targets:\n",
    "iris_target_prediction_argmax = tf.argmax(iris_model.predict(iris_features_test_ss), axis=1)\n",
    "\n",
    "# Constructing a Confusion Matrix:\n",
    "iris_matrix = metrics.confusion_matrix(iris_target_test, iris_target_prediction_argmax)\n",
    "\n",
    "# Define the Confusion Matrix Columns & Indixes:\n",
    "iris_df = pd.DataFrame(iris_matrix, index=['setosa', 'versicolor', 'virginica'], \n",
    "                       columns=['setosa', 'versicolor', 'virginica'])"
   ]
  },
  {
   "cell_type": "code",
   "execution_count": 11,
   "metadata": {},
   "outputs": [
    {
     "data": {
      "image/png": "[encoded data removed]",
      "text/plain": [
       "<Figure size 432x288 with 1 Axes>"
      ]
     },
     "metadata": {
      "needs_background": "light"
     },
     "output_type": "display_data"
    }
   ],
   "source": [
    "# Plot the Wine'e Confustion Matrix:\n",
    "sns.heatmap(iris_df, annot=True, cbar=None, cmap='Blues')\n",
    "plt.title('Iris Confusion Matrix')\n",
    "plt.tight_layout()\n",
    "plt.ylabel('True Class')\n",
    "plt.xlabel('Predicted Class')\n",
    "plt.show()"
   ]
  },
  {
   "cell_type": "code",
   "execution_count": 12,
   "metadata": {},
   "outputs": [
    {
     "data": {
      "text/plain": [
       "<matplotlib.axes._subplots.AxesSubplot at 0x7f863af53c90>"
      ]
     },
     "execution_count": 12,
     "metadata": {},
     "output_type": "execute_result"
    },
    {
     "data": {
      "image/png": "[encoded data removed]",
      "text/plain": [
       "<Figure size 432x288 with 1 Axes>"
      ]
     },
     "metadata": {
      "needs_background": "light"
     },
     "output_type": "display_data"
    }
   ],
   "source": [
    "# Plotting Loss & Validation Loss:\n",
    "iris_history_df = pd.DataFrame(iris_history.history)\n",
    "iris_history_df[['loss', 'val_loss']].plot.line()"
   ]
  },
  {
   "cell_type": "markdown",
   "metadata": {},
   "source": [
    "# ========================================="
   ]
  },
  {
   "cell_type": "markdown",
   "metadata": {},
   "source": [
    "# B- Wine Data Deep Learning Model:"
   ]
  },
  {
   "cell_type": "markdown",
   "metadata": {},
   "source": [
    "1- Data Importing and Preprocessing:"
   ]
  },
  {
   "cell_type": "code",
   "execution_count": 13,
   "metadata": {},
   "outputs": [],
   "source": [
    "wine_features, wine_target = datasets.load_wine(return_X_y=True)"
   ]
  },
  {
   "cell_type": "code",
   "execution_count": 14,
   "metadata": {},
   "outputs": [
    {
     "name": "stdout",
     "output_type": "stream",
     "text": [
      "Number of Classes in the Wine's Target Variable: {0, 1, 2}\n",
      "==================================================\n",
      "Number of Features:  13\n"
     ]
    }
   ],
   "source": [
    "print(\"Number of Classes in the Wine's Target Variable:\", set(wine_target))\n",
    "print('='*50)\n",
    "print('Number of Features: ', wine_features.shape[1])"
   ]
  },
  {
   "cell_type": "code",
   "execution_count": 15,
   "metadata": {
    "scrolled": false
   },
   "outputs": [],
   "source": [
    "# - Splitting Features & Target Variables:\n",
    "wine_features_train, wine_features_test, wine_target_train, wine_target_test = model_selection.train_test_split(wine_features, wine_target, test_size=.1)\n",
    "\n",
    "# - Standardize the Features:\n",
    "wine_scaler = preprocessing.StandardScaler()\n",
    "wine_features_train_ss = wine_scaler.fit_transform(wine_features_train)\n",
    "wine_features_test_ss = wine_scaler.transform(wine_features_test)\n",
    "\n",
    "# - Transform the Target Variable with One-Hot Encoding\n",
    "wine_target_train_1hot = tf.one_hot(wine_target_train, depth=len(set(wine_target_train)))\n",
    "wine_target_test_1hot = tf.one_hot(wine_target_test, depth=len(set(wine_target_test)))"
   ]
  },
  {
   "cell_type": "markdown",
   "metadata": {},
   "source": [
    "2- Model Construction and Training:"
   ]
  },
  {
   "cell_type": "code",
   "execution_count": 16,
   "metadata": {},
   "outputs": [],
   "source": [
    "# Construct a Deep Neural Network Model:\n",
    "wine_model = tf.keras.Sequential([\n",
    "    tf.keras.Input(13),\n",
    "    tf.keras.layers.Dropout(.1),\n",
    "    tf.keras.layers.Dense(16, activation=tf.nn.relu),\n",
    "    tf.keras.layers.Dropout(.1),\n",
    "    tf.keras.layers.Dense(32, activation=tf.nn.relu),\n",
    "    tf.keras.layers.Dropout(.1),\n",
    "    tf.keras.layers.Dense(16, activation=tf.nn.relu),\n",
    "    tf.keras.layers.Dropout(.1),\n",
    "    tf.keras.layers.Dense(3, activation=tf.nn.softmax)\n",
    "])\n",
    "\n",
    "# Compiling the Built Model:\n",
    "wine_model.compile(optimizer=tf.optimizers.Adam(),\n",
    "              loss=tf.losses.CategoricalCrossentropy(),\n",
    "              metrics=['acc'])"
   ]
  },
  {
   "cell_type": "code",
   "execution_count": 17,
   "metadata": {},
   "outputs": [],
   "source": [
    "# Setting the Callback Conditions:\n",
    "wine_callbacks = [tf.keras.callbacks.EarlyStopping(monitor='val_loss', min_delta=.01, patience=3)]"
   ]
  },
  {
   "cell_type": "code",
   "execution_count": 18,
   "metadata": {},
   "outputs": [],
   "source": [
    "# Running the Model:\n",
    "wine_history = wine_model.fit(wine_features_train_ss, wine_target_train_1hot, epochs=100,\n",
    "                              validation_split=.1, batch_size=32, verbose=0, \n",
    "                              validation_data=(wine_features_test_ss, wine_target_test_1hot), \n",
    "                              callbacks=wine_callbacks)"
   ]
  },
  {
   "cell_type": "markdown",
   "metadata": {},
   "source": [
    "3- Model Evaluation:"
   ]
  },
  {
   "cell_type": "code",
   "execution_count": 19,
   "metadata": {},
   "outputs": [
    {
     "data": {
      "text/plain": [
       "<tf.Tensor: shape=(), dtype=float32, numpy=0.9444444>"
      ]
     },
     "execution_count": 19,
     "metadata": {},
     "output_type": "execute_result"
    }
   ],
   "source": [
    "# Checking the Model's Accuracy\n",
    "tf.reduce_mean(tf.metrics.categorical_accuracy(wine_target_test_1hot, wine_model.predict(wine_features_test_ss)))"
   ]
  },
  {
   "cell_type": "code",
   "execution_count": 20,
   "metadata": {},
   "outputs": [],
   "source": [
    "# Creating Vector of the Predicted Targets:\n",
    "wine_target_prediction_argmax = tf.argmax(wine_model.predict(wine_features_test_ss), axis=1)\n",
    "\n",
    "# Constructing a Confusion Matrix:\n",
    "wine_matrix = metrics.confusion_matrix(wine_target_test, wine_target_prediction_argmax)\n",
    "\n",
    "# Define the Confusion Matrix Columns & Indixes:\n",
    "wine_df = pd.DataFrame(wine_matrix, index=['Class 0', 'Class 1', 'Class 2'], \n",
    "                  columns=['Class 0', 'Class 1', 'Class 2'])"
   ]
  },
  {
   "cell_type": "code",
   "execution_count": 21,
   "metadata": {},
   "outputs": [
    {
     "data": {
      "image/png": "[encoded data removed]",
      "text/plain": [
       "<Figure size 432x288 with 1 Axes>"
      ]
     },
     "metadata": {
      "needs_background": "light"
     },
     "output_type": "display_data"
    }
   ],
   "source": [
    "# Plot the Wine'e Confustion Matrix:\n",
    "sns.heatmap(wine_df, annot=True, cbar=None, cmap='Blues')\n",
    "plt.title('Wine Confusion Matrix')\n",
    "plt.tight_layout()\n",
    "plt.ylabel('True Class')\n",
    "plt.xlabel('Predicted Class')\n",
    "plt.show()"
   ]
  },
  {
   "cell_type": "code",
   "execution_count": 22,
   "metadata": {},
   "outputs": [
    {
     "data": {
      "text/plain": [
       "<matplotlib.axes._subplots.AxesSubplot at 0x7f863b131f10>"
      ]
     },
     "execution_count": 22,
     "metadata": {},
     "output_type": "execute_result"
    },
    {
     "data": {
      "image/png": "[encoded data removed]",
      "text/plain": [
       "<Figure size 432x288 with 1 Axes>"
      ]
     },
     "metadata": {
      "needs_background": "light"
     },
     "output_type": "display_data"
    }
   ],
   "source": [
    "# Plotting Loss & Validation Loss:\n",
    "wine_history_df = pd.DataFrame(wine_history.history)\n",
    "wine_history_df[['loss', 'val_loss']].plot.line()"
   ]
  },
  {
   "cell_type": "code",
   "execution_count": null,
   "metadata": {},
   "outputs": [],
   "source": []
  }
 ],
 "metadata": {
  "kernelspec": {
   "display_name": "Python 3",
   "language": "python",
   "name": "python3"
  },
  "language_info": {
   "codemirror_mode": {
    "name": "ipython",
    "version": 3
   },
   "file_extension": ".py",
   "mimetype": "text/x-python",
   "name": "python",
   "nbconvert_exporter": "python",
   "pygments_lexer": "ipython3",
   "version": "3.7.6"
  }
 },
 "nbformat": 4,
 "nbformat_minor": 4
}
